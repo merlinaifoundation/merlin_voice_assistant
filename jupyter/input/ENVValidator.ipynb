{
 "cells": [
  {
   "cell_type": "code",
   "execution_count": null,
   "id": "ba83fd67-d99f-465e-8707-9a132019eb6c",
   "metadata": {},
   "outputs": [],
   "source": [
    "#Dotenv is installed, use as:\n",
    "#from dotenv import load_dotenv\n",
    "#load_dotenv()\n",
    "#\n",
    "\n",
    "#list the environmental variables\n",
    "import os\n",
    "#\n",
    "#Example\n",
    "dbURl = os.environ.get('DATABASE_URL')\n",
    "print(\"\\n\\nDATABASE_URL\\t\")\n",
    "print(dbURl)\n",
    "#\n",
    "print(\"\\n\\nENVIROMENTAL\\tVARS\\n\\n\")\n",
    "print(os.environ)"
   ]
  }
 ],
 "metadata": {
  "kernelspec": {
   "display_name": "Python 3 (ipykernel)",
   "language": "python",
   "name": "python3"
  },
  "language_info": {
   "codemirror_mode": {
    "name": "ipython",
    "version": 3
   },
   "file_extension": ".py",
   "mimetype": "text/x-python",
   "name": "python",
   "nbconvert_exporter": "python",
   "pygments_lexer": "ipython3",
   "version": "3.9.2"
  }
 },
 "nbformat": 4,
 "nbformat_minor": 5
}

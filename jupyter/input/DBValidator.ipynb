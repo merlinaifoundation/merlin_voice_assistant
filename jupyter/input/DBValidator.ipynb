{
 "cells": [
  {
   "cell_type": "code",
   "execution_count": null,
   "id": "04601fd2-5e69-46ea-92c0-7850ad90bd45",
   "metadata": {},
   "outputs": [],
   "source": [
    "%load_ext sql"
   ]
  },
  {
   "cell_type": "code",
   "execution_count": null,
   "id": "2b31a2aa",
   "metadata": {},
   "outputs": [],
   "source": [
    "#Example, not necessary\n",
    "#%env DATABASE_URL=\"new url\"\n",
    "%sql SELECT current_date"
   ]
  },
  {
   "cell_type": "code",
   "execution_count": null,
   "id": "e245b175-7ec6-4139-9abb-6f75b96458aa",
   "metadata": {},
   "outputs": [],
   "source": [
    "%sql SELECT current_date"
   ]
  }
 ],
 "metadata": {
  "kernelspec": {
   "display_name": "Python 3 (ipykernel)",
   "language": "python",
   "name": "python3"
  },
  "language_info": {
   "codemirror_mode": {
    "name": "ipython",
    "version": 3
   },
   "file_extension": ".py",
   "mimetype": "text/x-python",
   "name": "python",
   "nbconvert_exporter": "python",
   "pygments_lexer": "ipython3",
   "version": "3.7.4"
  }
 },
 "nbformat": 4,
 "nbformat_minor": 5
}
